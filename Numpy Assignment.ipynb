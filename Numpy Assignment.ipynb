{
 "cells": [
  {
   "cell_type": "code",
   "execution_count": 1,
   "id": "08cc9851-6753-48fa-b6bb-4e7fafd90fd9",
   "metadata": {},
   "outputs": [
    {
     "name": "stdout",
     "output_type": "stream",
     "text": [
      "int64\n"
     ]
    }
   ],
   "source": [
    "# Answer 1\n",
    "\n",
    "import numpy as np\n",
    "\n",
    "arr = np.array([0, 1, 2, 3, 4, 5])\n",
    "print(arr.dtype)\n"
   ]
  },
  {
   "cell_type": "code",
   "execution_count": 2,
   "id": "b9a83f34-8e2a-4313-b8cf-ce3a8fc6fa49",
   "metadata": {},
   "outputs": [
    {
     "name": "stdout",
     "output_type": "stream",
     "text": [
      "True\n"
     ]
    }
   ],
   "source": [
    "# Answer 2\n",
    "\n",
    "arr = np.array([1.5, 2.6, 3.7])  # Example array given in the image\n",
    "is_float64 = arr.dtype == np.float64\n",
    "print(is_float64)\n"
   ]
  },
  {
   "cell_type": "code",
   "execution_count": 3,
   "id": "96eac9bb-8d45-46d7-bb3a-eb4fea334eaa",
   "metadata": {},
   "outputs": [
    {
     "name": "stdout",
     "output_type": "stream",
     "text": [
      "[1.+2.j 3.+4.j 5.+6.j]\n"
     ]
    }
   ],
   "source": [
    "# Answer 3\n",
    "\n",
    "arr = np.array([1 + 2j, 3 + 4j, 5 + 6j], dtype=np.complex128)\n",
    "print(arr)\n"
   ]
  },
  {
   "cell_type": "code",
   "execution_count": 4,
   "id": "242a1086-52d2-44a3-80ca-ee9920465af5",
   "metadata": {},
   "outputs": [
    {
     "name": "stdout",
     "output_type": "stream",
     "text": [
      "[1. 2. 3. 4. 5.]\n"
     ]
    }
   ],
   "source": [
    "# ANswer 4\n",
    "\n",
    "arr = np.array([1, 2, 3, 4, 5])\n",
    "arr_float32 = arr.astype(np.float32)\n",
    "print(arr_float32)\n"
   ]
  },
  {
   "cell_type": "code",
   "execution_count": 5,
   "id": "3e99ca67-7837-48a6-a6ab-88c41d0786de",
   "metadata": {},
   "outputs": [
    {
     "name": "stdout",
     "output_type": "stream",
     "text": [
      "[1.5 2.6 3.7]\n"
     ]
    }
   ],
   "source": [
    "# Answer 5\n",
    "\n",
    "arr = np.array([1.5, 2.6, 3.7], dtype=np.float64)\n",
    "arr_float32 = arr.astype(np.float32)\n",
    "print(arr_float32)\n"
   ]
  },
  {
   "cell_type": "code",
   "execution_count": 6,
   "id": "cbd782b3-ecfc-4882-8a05-fe1973442276",
   "metadata": {},
   "outputs": [
    {
     "name": "stdout",
     "output_type": "stream",
     "text": [
      "((3,), 3, dtype('float64'))\n"
     ]
    }
   ],
   "source": [
    "# Answer 6\n",
    "\n",
    "def array_attributes(arr):\n",
    "    return arr.shape, arr.size, arr.dtype\n",
    "\n",
    "arr = np.array([1.5, 2.6, 3.7])\n",
    "print(array_attributes(arr))\n"
   ]
  },
  {
   "cell_type": "code",
   "execution_count": 7,
   "id": "c7e0e893-becf-4cf9-9582-287f24634582",
   "metadata": {},
   "outputs": [
    {
     "name": "stdout",
     "output_type": "stream",
     "text": [
      "2\n"
     ]
    }
   ],
   "source": [
    "# Answer 7\n",
    "\n",
    "def array_dimension(arr):\n",
    "    return arr.ndim\n",
    "\n",
    "arr = np.array([[1, 2], [3, 4]])\n",
    "print(array_dimension(arr))\n"
   ]
  },
  {
   "cell_type": "code",
   "execution_count": 8,
   "id": "b89a7d79-0ca4-4e5f-bbed-e284b82286ab",
   "metadata": {},
   "outputs": [
    {
     "name": "stdout",
     "output_type": "stream",
     "text": [
      "(8, 40)\n"
     ]
    }
   ],
   "source": [
    "# Answer 8\n",
    "\n",
    "import numpy as np\n",
    "\n",
    "def item_size_info(arr):\n",
    "    item_size = arr.itemsize          # Size of one element in bytes\n",
    "    total_size = arr.nbytes           # Total size of the array in bytes\n",
    "    return item_size, total_size\n",
    "\n",
    "# Example usage\n",
    "arr = np.array([1, 2, 3, 4, 5])\n",
    "print(item_size_info(arr))\n"
   ]
  },
  {
   "cell_type": "code",
   "execution_count": 9,
   "id": "6dd037d8-767d-43cf-8d4c-4446a9661243",
   "metadata": {},
   "outputs": [
    {
     "name": "stdout",
     "output_type": "stream",
     "text": [
      "(24, 8)\n"
     ]
    }
   ],
   "source": [
    "# ANswer 9\n",
    "\n",
    "import numpy as np\n",
    "\n",
    "def array_strides(arr):\n",
    "    return arr.strides\n",
    "\n",
    "# Example usage\n",
    "arr = np.array([[1, 2, 3], [4, 5, 6]])\n",
    "print(array_strides(arr))\n"
   ]
  },
  {
   "cell_type": "code",
   "execution_count": 10,
   "id": "7c86be8f-f54b-4ef8-aef0-ec572234d37d",
   "metadata": {},
   "outputs": [
    {
     "name": "stdout",
     "output_type": "stream",
     "text": [
      "((2, 3), (24, 8))\n"
     ]
    }
   ],
   "source": [
    "# Answer 10\n",
    "\n",
    "import numpy as np\n",
    "\n",
    "def shape_stride_relationship(arr):\n",
    "    \"\"\"\n",
    "    Returns the shape and strides of a NumPy array.\n",
    "    \n",
    "    Parameters:\n",
    "    arr (numpy.ndarray): Input NumPy array.\n",
    "    \n",
    "    Returns:\n",
    "    tuple: A tuple containing the shape and strides of the array.\n",
    "    \"\"\"\n",
    "    shape = arr.shape\n",
    "    strides = arr.strides\n",
    "    return shape, strides\n",
    "\n",
    "# Example usage\n",
    "arr = np.array([[1, 2, 3], [4, 5, 6]])\n",
    "print(shape_stride_relationship(arr))  # Output: ((2, 3), (24, 8))\n"
   ]
  },
  {
   "cell_type": "code",
   "execution_count": 11,
   "id": "c4054c2a-4847-42d0-93c6-cf4f37ca5a77",
   "metadata": {},
   "outputs": [
    {
     "name": "stdout",
     "output_type": "stream",
     "text": [
      "[0. 0. 0. 0. 0.]\n"
     ]
    }
   ],
   "source": [
    "# Answer 11\n",
    "\n",
    "import numpy as np\n",
    "\n",
    "def create_zeros_array(n):\n",
    "    \"\"\"\n",
    "    Creates a NumPy array of zeros with n elements.\n",
    "    \n",
    "    Parameters:\n",
    "    n (int): The number of elements in the array.\n",
    "    \n",
    "    Returns:\n",
    "    numpy.ndarray: An array of zeros with n elements.\n",
    "    \"\"\"\n",
    "    return np.zeros(n)\n",
    "\n",
    "# Example usage\n",
    "n = 5\n",
    "print(create_zeros_array(n))  # Output: [0. 0. 0. 0. 0.]\n"
   ]
  },
  {
   "cell_type": "code",
   "execution_count": 12,
   "id": "641ce7f7-15b6-43e3-9091-34cc43576526",
   "metadata": {},
   "outputs": [
    {
     "name": "stdout",
     "output_type": "stream",
     "text": [
      "[[1. 1. 1. 1.]\n",
      " [1. 1. 1. 1.]\n",
      " [1. 1. 1. 1.]]\n"
     ]
    }
   ],
   "source": [
    "# Answer 12\n",
    "\n",
    "import numpy as np\n",
    "\n",
    "def create_ones_matrix(rows, cols):\n",
    "    return np.ones((rows, cols))\n",
    "\n",
    "# Example usage\n",
    "matrix = create_ones_matrix(3, 4)\n",
    "print(matrix)\n"
   ]
  },
  {
   "cell_type": "code",
   "execution_count": 13,
   "id": "4a18486d-1243-4178-86ab-2b51f3955c7e",
   "metadata": {},
   "outputs": [
    {
     "name": "stdout",
     "output_type": "stream",
     "text": [
      "[1 3 5 7 9]\n"
     ]
    }
   ],
   "source": [
    "# Answer 13\n",
    "\n",
    "import numpy as np\n",
    "\n",
    "def generate_range_array(start, stop, step):\n",
    "    return np.arange(start, stop, step)\n",
    "\n",
    "# Example usage\n",
    "array = generate_range_array(1, 10, 2)\n",
    "print(array)\n"
   ]
  },
  {
   "cell_type": "code",
   "execution_count": 14,
   "id": "666c8325-564e-4f97-8a63-3202ee787385",
   "metadata": {},
   "outputs": [
    {
     "name": "stdout",
     "output_type": "stream",
     "text": [
      "[0. 1. 2. 3. 4. 5.]\n"
     ]
    }
   ],
   "source": [
    "# Answer 14\n",
    "\n",
    "import numpy as np\n",
    "\n",
    "def generate_linear_space(start, stop, num):\n",
    "    return np.linspace(start, stop, num)\n",
    "\n",
    "# Example usage\n",
    "array = generate_linear_space(0.0, 5.0, 6)\n",
    "print(array)\n"
   ]
  },
  {
   "cell_type": "code",
   "execution_count": 15,
   "id": "efb0e6fa-e88f-425d-8091-49ef2302a2a9",
   "metadata": {},
   "outputs": [
    {
     "name": "stdout",
     "output_type": "stream",
     "text": [
      "[[1. 0. 0. 0.]\n",
      " [0. 1. 0. 0.]\n",
      " [0. 0. 1. 0.]\n",
      " [0. 0. 0. 1.]]\n"
     ]
    }
   ],
   "source": [
    "# Answer 15\n",
    "\n",
    "import numpy as np\n",
    "\n",
    "def create_identity_matrix(n):\n",
    "    return np.eye(n)\n",
    "\n",
    "# Example usage\n",
    "matrix = create_identity_matrix(4)\n",
    "print(matrix)\n"
   ]
  },
  {
   "cell_type": "code",
   "execution_count": 16,
   "id": "78f9e515-767b-45c8-84bb-51e07d7b5c15",
   "metadata": {},
   "outputs": [
    {
     "name": "stdout",
     "output_type": "stream",
     "text": [
      "[1 2 3 4 5]\n"
     ]
    }
   ],
   "source": [
    "# Answer 16\n",
    "\n",
    "import numpy as np\n",
    "\n",
    "def list_to_numpy_array(lst):\n",
    "    return np.array(lst)\n",
    "\n",
    "# Example usage\n",
    "python_list = [1, 2, 3, 4, 5]\n",
    "numpy_array = list_to_numpy_array(python_list)\n",
    "print(numpy_array)\n"
   ]
  },
  {
   "cell_type": "code",
   "execution_count": 17,
   "id": "9f46835b-7913-4408-92e6-5e685773740c",
   "metadata": {},
   "outputs": [
    {
     "name": "stdout",
     "output_type": "stream",
     "text": [
      "Original Array: [10  2  3  4  5]\n",
      "View Array: [10  2  3  4  5]\n"
     ]
    }
   ],
   "source": [
    "# Answer 17\n",
    "\n",
    "import numpy as np\n",
    "\n",
    "# Create an initial NumPy array\n",
    "original_array = np.array([1, 2, 3, 4, 5])\n",
    "\n",
    "# Use numpy.view() to create a new view of the same data\n",
    "view_array = original_array.view()\n",
    "\n",
    "# Modify the view_array to show that it affects the original_array\n",
    "view_array[0] = 10\n",
    "\n",
    "# Print both arrays to see the effect\n",
    "print(\"Original Array:\", original_array)\n",
    "print(\"View Array:\", view_array)\n"
   ]
  },
  {
   "cell_type": "code",
   "execution_count": 18,
   "id": "9dccef5e-808a-46ad-992c-33227535c1a3",
   "metadata": {},
   "outputs": [
    {
     "name": "stdout",
     "output_type": "stream",
     "text": [
      "Concatenated along axis 0:\n",
      " [[ 1  2  3]\n",
      " [ 4  5  6]\n",
      " [ 7  8  9]\n",
      " [10 11 12]]\n",
      "Concatenated along axis 1:\n",
      " [[ 1  2  3  7  8  9]\n",
      " [ 4  5  6 10 11 12]]\n"
     ]
    }
   ],
   "source": [
    "# Answer 18\n",
    "\n",
    "import numpy as np\n",
    "\n",
    "def concatenate_arrays(array1, array2, axis=0):\n",
    "    return np.concatenate((array1, array2), axis=axis)\n",
    "\n",
    "# Example usage\n",
    "array1 = np.array([[1, 2, 3], [4, 5, 6]])\n",
    "array2 = np.array([[7, 8, 9], [10, 11, 12]])\n",
    "\n",
    "# Concatenate along the first axis (rows)\n",
    "result_axis0 = concatenate_arrays(array1, array2, axis=0)\n",
    "print(\"Concatenated along axis 0:\\n\", result_axis0)\n",
    "\n",
    "# Concatenate along the second axis (columns)\n",
    "result_axis1 = concatenate_arrays(array1, array2, axis=1)\n",
    "print(\"Concatenated along axis 1:\\n\", result_axis1)\n"
   ]
  },
  {
   "cell_type": "code",
   "execution_count": 19,
   "id": "53a75dcd-af2e-4c30-aac2-a7269231e8a5",
   "metadata": {},
   "outputs": [
    {
     "name": "stdout",
     "output_type": "stream",
     "text": [
      "Concatenated Array:\n",
      " [[ 1  2  3  7  8]\n",
      " [ 4  5  6  9 10]]\n"
     ]
    }
   ],
   "source": [
    "# ANswer 19\n",
    "\n",
    "import numpy as np\n",
    "\n",
    "# Create two NumPy arrays with different shapes but compatible for horizontal concatenation\n",
    "array1 = np.array([[1, 2, 3], [4, 5, 6]])   # Shape (2, 3)\n",
    "array2 = np.array([[7, 8], [9, 10]])         # Shape (2, 2)\n",
    "\n",
    "# Concatenate the arrays horizontally (along axis 1)\n",
    "result = np.concatenate((array1, array2), axis=1)\n",
    "\n",
    "print(\"Concatenated Array:\\n\", result)\n"
   ]
  },
  {
   "cell_type": "code",
   "execution_count": 20,
   "id": "525fe2e5-7dac-4ca3-a88e-62ab3f9775a4",
   "metadata": {},
   "outputs": [
    {
     "name": "stdout",
     "output_type": "stream",
     "text": [
      "Vertically Stacked Array:\n",
      " [[ 1  2  3]\n",
      " [ 4  5  6]\n",
      " [ 7  8  9]\n",
      " [10 11 12]\n",
      " [13 14 15]]\n"
     ]
    }
   ],
   "source": [
    "# Answer 20\n",
    "\n",
    "import numpy as np\n",
    "\n",
    "def vertical_stack(arrays):\n",
    "    return np.vstack(arrays)\n",
    "\n",
    "# Example usage\n",
    "array1 = np.array([[1, 2, 3], [4, 5, 6]])\n",
    "array2 = np.array([[7, 8, 9], [10, 11, 12]])\n",
    "array3 = np.array([[13, 14, 15]])\n",
    "\n",
    "# Stack the arrays vertically\n",
    "result = vertical_stack([array1, array2, array3])\n",
    "print(\"Vertically Stacked Array:\\n\", result)\n"
   ]
  },
  {
   "cell_type": "code",
   "execution_count": 21,
   "id": "14b21a17-ebd9-4987-bca7-6b07744b316f",
   "metadata": {},
   "outputs": [
    {
     "name": "stdout",
     "output_type": "stream",
     "text": [
      "Array: [1 3 5 7 9]\n"
     ]
    }
   ],
   "source": [
    "# Answer 21\n",
    "\n",
    "import numpy as np\n",
    "\n",
    "def range_array(start, stop, step):\n",
    "    # Use np.arange to generate an array from start to stop (inclusive) with the given step\n",
    "    if step == 0:\n",
    "        raise ValueError(\"Step size must be non-zero\")\n",
    "    if step > 0 and start > stop:\n",
    "        raise ValueError(\"For positive step size, start must be less than or equal to stop\")\n",
    "    if step < 0 and start < stop:\n",
    "        raise ValueError(\"For negative step size, start must be greater than or equal to stop\")\n",
    "    \n",
    "    # Adjust the stop value to be inclusive\n",
    "    if step > 0:\n",
    "        stop += 1\n",
    "    \n",
    "    return np.arange(start, stop, step)\n",
    "\n",
    "# Example usage\n",
    "array = range_array(1, 10, 2)\n",
    "print(\"Array:\", array)\n"
   ]
  },
  {
   "cell_type": "code",
   "execution_count": 22,
   "id": "e7a050b6-8259-487e-aadb-fd075a3a51ee",
   "metadata": {},
   "outputs": [
    {
     "name": "stdout",
     "output_type": "stream",
     "text": [
      "Equally Spaced Array: [0.         0.11111111 0.22222222 0.33333333 0.44444444 0.55555556\n",
      " 0.66666667 0.77777778 0.88888889 1.        ]\n"
     ]
    }
   ],
   "source": [
    "# Answer 22\n",
    "\n",
    "import numpy as np\n",
    "\n",
    "def generate_equally_spaced_array(start, stop, num):\n",
    "    return np.linspace(start, stop, num)\n",
    "\n",
    "# Example usage\n",
    "array = generate_equally_spaced_array(0, 1, 10)\n",
    "print(\"Equally Spaced Array:\", array)\n"
   ]
  },
  {
   "cell_type": "code",
   "execution_count": 23,
   "id": "180c2d4e-d90f-4ec6-9d77-537883290853",
   "metadata": {},
   "outputs": [
    {
     "name": "stdout",
     "output_type": "stream",
     "text": [
      "Logarithmically Spaced Array: [   1.            5.62341325   31.6227766   177.827941   1000.        ]\n"
     ]
    }
   ],
   "source": [
    "# Answer 23\n",
    "\n",
    "import numpy as np\n",
    "\n",
    "def generate_log_space(start, stop, num):\n",
    "    return np.logspace(np.log10(start), np.log10(stop), num)\n",
    "\n",
    "# Example usage\n",
    "array = generate_log_space(1, 1000, 5)\n",
    "print(\"Logarithmically Spaced Array:\", array)\n"
   ]
  },
  {
   "cell_type": "code",
   "execution_count": 24,
   "id": "c92629c9-5fd5-4c8e-bbd6-f1acd22eee79",
   "metadata": {},
   "outputs": [
    {
     "name": "stdout",
     "output_type": "stream",
     "text": [
      "DataFrame:\n",
      "    Column1  Column2  Column3\n",
      "0       80        2       29\n",
      "1       13       85       99\n",
      "2       92       10       43\n",
      "3       64       79       76\n",
      "4       61       78       27\n"
     ]
    }
   ],
   "source": [
    "# Answer 24\n",
    "\n",
    "import pandas as pd\n",
    "import numpy as np\n",
    "\n",
    "# Generate a NumPy array with random integers between 1 and 100\n",
    "data = np.random.randint(1, 101, size=(5, 3))\n",
    "\n",
    "# Create a DataFrame from the NumPy array\n",
    "df = pd.DataFrame(data, columns=['Column1', 'Column2', 'Column3'])\n",
    "\n",
    "print(\"DataFrame:\\n\", df)\n"
   ]
  },
  {
   "cell_type": "code",
   "execution_count": 25,
   "id": "69cbcf74-9bce-4a19-aa93-c3b60aeba431",
   "metadata": {},
   "outputs": [
    {
     "name": "stdout",
     "output_type": "stream",
     "text": [
      "Original DataFrame:\n",
      "     A  B\n",
      "0  10 -1\n",
      "1  -5  2\n",
      "2  15 -3\n",
      "3 -20  4\n",
      "4  25 -5\n",
      "DataFrame after replacing negatives in column 'A':\n",
      "     A  B\n",
      "0  10 -1\n",
      "1   0  2\n",
      "2  15 -3\n",
      "3   0  4\n",
      "4  25 -5\n"
     ]
    }
   ],
   "source": [
    "# Answer 25\n",
    "\n",
    "import pandas as pd\n",
    "import numpy as np\n",
    "\n",
    "def replace_negatives_with_zeros(df, column_name):\n",
    "    df[column_name] = np.where(df[column_name] < 0, 0, df[column_name])\n",
    "\n",
    "# Example usage\n",
    "data = {\n",
    "    'A': [10, -5, 15, -20, 25],\n",
    "    'B': [-1, 2, -3, 4, -5]\n",
    "}\n",
    "df = pd.DataFrame(data)\n",
    "\n",
    "print(\"Original DataFrame:\\n\", df)\n",
    "\n",
    "# Replace negative values in column 'A'\n",
    "replace_negatives_with_zeros(df, 'A')\n",
    "\n",
    "print(\"DataFrame after replacing negatives in column 'A':\\n\", df)\n"
   ]
  },
  {
   "cell_type": "code",
   "execution_count": 26,
   "id": "15e59e08-51df-45be-955f-ab1383ed2ca3",
   "metadata": {},
   "outputs": [
    {
     "name": "stdout",
     "output_type": "stream",
     "text": [
      "3rd Element: 30\n"
     ]
    }
   ],
   "source": [
    "# Answer 26\n",
    "\n",
    "import numpy as np\n",
    "\n",
    "# Example 1D NumPy array\n",
    "array = np.array([10, 20, 30, 40, 50])\n",
    "\n",
    "# Access the 3rd element (index 2)\n",
    "third_element = array[2]\n",
    "print(\"3rd Element:\", third_element)\n"
   ]
  },
  {
   "cell_type": "code",
   "execution_count": 27,
   "id": "61df07ae-d853-40eb-88fa-863c54984c69",
   "metadata": {},
   "outputs": [
    {
     "name": "stdout",
     "output_type": "stream",
     "text": [
      "Element at (1, 2): 6\n"
     ]
    }
   ],
   "source": [
    "# Answer 27\n",
    "\n",
    "import numpy as np\n",
    "\n",
    "# Example 2D NumPy array\n",
    "array_2d = np.array([[1, 2, 3], [4, 5, 6], [7, 8, 9]])\n",
    "\n",
    "# Retrieve the element at index (1, 2)\n",
    "element = array_2d[1, 2]\n",
    "print(\"Element at (1, 2):\", element)\n"
   ]
  },
  {
   "cell_type": "code",
   "execution_count": 28,
   "id": "40b4315d-721f-4676-808e-2b140f1548f7",
   "metadata": {},
   "outputs": [
    {
     "name": "stdout",
     "output_type": "stream",
     "text": [
      "Elements greater than 5: [ 6  8 10]\n"
     ]
    }
   ],
   "source": [
    "# ANswer 28\n",
    "\n",
    "import numpy as np\n",
    "\n",
    "# Example NumPy array\n",
    "array = np.array([1, 6, 3, 8, 5, 10])\n",
    "\n",
    "# Extract elements greater than 5\n",
    "elements_greater_than_5 = array[array > 5]\n",
    "print(\"Elements greater than 5:\", elements_greater_than_5)\n"
   ]
  },
  {
   "cell_type": "code",
   "execution_count": 29,
   "id": "4c368d2d-6d7a-4f23-8e99-47d1dfbfef5a",
   "metadata": {},
   "outputs": [
    {
     "name": "stdout",
     "output_type": "stream",
     "text": [
      "Sliced Array (index 2 to 5): [30 40 50 60]\n"
     ]
    }
   ],
   "source": [
    "# Answer 29\n",
    "\n",
    "import numpy as np\n",
    "\n",
    "# Example NumPy array\n",
    "array = np.array([10, 20, 30, 40, 50, 60, 70])\n",
    "\n",
    "# Extract elements from index 2 to 5 (inclusive)\n",
    "sliced_array = array[2:6]\n",
    "print(\"Sliced Array (index 2 to 5):\", sliced_array)\n"
   ]
  },
  {
   "cell_type": "code",
   "execution_count": 30,
   "id": "98c07080-f3bb-4177-a81c-dfe235f74865",
   "metadata": {},
   "outputs": [
    {
     "name": "stdout",
     "output_type": "stream",
     "text": [
      "Sub-array [[2, 3], [5, 6]]:\n",
      " [[2 3]\n",
      " [6 7]]\n"
     ]
    }
   ],
   "source": [
    "# Answer 30\n",
    "import numpy as np\n",
    "\n",
    "# Example 2D NumPy array\n",
    "array_2d = np.array([[1, 2, 3, 4], [5, 6, 7, 8], [9, 10, 11, 12]])\n",
    "\n",
    "# Extract the sub-array [[2, 3], [5, 6]]\n",
    "sub_array = array_2d[0:2, 1:3]\n",
    "print(\"Sub-array [[2, 3], [5, 6]]:\\n\", sub_array)\n"
   ]
  },
  {
   "cell_type": "code",
   "execution_count": 31,
   "id": "46063536-0fe6-4fb1-a2c0-7c27785c835a",
   "metadata": {},
   "outputs": [
    {
     "name": "stdout",
     "output_type": "stream",
     "text": [
      "Extracted Elements: [3 5 7]\n"
     ]
    }
   ],
   "source": [
    "# Answer 31\n",
    "import numpy as np\n",
    "\n",
    "def extract_elements(array_2d, indices):\n",
    "    return array_2d[indices]\n",
    "\n",
    "# Example usage\n",
    "array_2d = np.array([[1, 2, 3], [4, 5, 6], [7, 8, 9]])\n",
    "indices = (np.array([0, 1, 2]), np.array([2, 1, 0]))  # Extract elements (0,2), (1,1), (2,0)\n",
    "extracted_elements = extract_elements(array_2d, indices)\n",
    "print(\"Extracted Elements:\", extracted_elements)\n"
   ]
  },
  {
   "cell_type": "code",
   "execution_count": 32,
   "id": "1beb2c50-3688-475e-b10c-e014fcf2510d",
   "metadata": {},
   "outputs": [
    {
     "name": "stdout",
     "output_type": "stream",
     "text": [
      "Filtered Elements: [ 5  7 10]\n"
     ]
    }
   ],
   "source": [
    "# Answer 32\n",
    "\n",
    "import numpy as np\n",
    "\n",
    "def filter_elements(array, threshold):\n",
    "    return array[array > threshold]\n",
    "\n",
    "# Example usage\n",
    "array = np.array([1, 5, 7, 10, 3])\n",
    "threshold = 4\n",
    "filtered_array = filter_elements(array, threshold)\n",
    "print(\"Filtered Elements:\", filtered_array)\n"
   ]
  },
  {
   "cell_type": "code",
   "execution_count": 33,
   "id": "41258420-0d3b-41cc-a2dd-5ebc9e6884cd",
   "metadata": {},
   "outputs": [
    {
     "name": "stdout",
     "output_type": "stream",
     "text": [
      "Extracted Elements from 3D Array: [ 3 11  7]\n"
     ]
    }
   ],
   "source": [
    "# Answer 33\n",
    "import numpy as np\n",
    "\n",
    "def extract_from_3d_array(array_3d, x_indices, y_indices, z_indices):\n",
    "    return array_3d[x_indices, y_indices, z_indices]\n",
    "\n",
    "# Example usage\n",
    "array_3d = np.array([[[1, 2, 3], [4, 5, 6]], [[7, 8, 9], [10, 11, 12]]])\n",
    "x_indices = np.array([0, 1, 1])\n",
    "y_indices = np.array([0, 1, 0])\n",
    "z_indices = np.array([2, 1, 0])\n",
    "extracted_elements = extract_from_3d_array(array_3d, x_indices, y_indices, z_indices)\n",
    "print(\"Extracted Elements from 3D Array:\", extracted_elements)\n"
   ]
  },
  {
   "cell_type": "code",
   "execution_count": 34,
   "id": "9755117e-a879-4c1a-ba97-3c0a4847f8ba",
   "metadata": {},
   "outputs": [
    {
     "name": "stdout",
     "output_type": "stream",
     "text": [
      "Filtered Elements with Both Conditions: [3 4]\n"
     ]
    }
   ],
   "source": [
    "# Answer 34\n",
    "\n",
    "import numpy as np\n",
    "\n",
    "def filter_with_conditions(array, condition1, condition2):\n",
    "    return array[condition1 & condition2]\n",
    "\n",
    "# Example usage\n",
    "array = np.array([1, 2, 3, 4, 5, 6])\n",
    "condition1 = array > 2\n",
    "condition2 = array < 5\n",
    "filtered_array = filter_with_conditions(array, condition1, condition2)\n",
    "print(\"Filtered Elements with Both Conditions:\", filtered_array)\n"
   ]
  },
  {
   "cell_type": "code",
   "execution_count": 35,
   "id": "92f9d91e-a1ea-4141-87ca-54970d9f5ba7",
   "metadata": {},
   "outputs": [
    {
     "name": "stdout",
     "output_type": "stream",
     "text": [
      "Extracted Elements by Row and Column Indices: [2 6 7]\n"
     ]
    }
   ],
   "source": [
    "# Answer 35\n",
    "\n",
    "import numpy as np\n",
    "\n",
    "def extract_elements_by_indices(array_2d, row_indices, col_indices):\n",
    "    return array_2d[row_indices, col_indices]\n",
    "\n",
    "# Example usage\n",
    "array_2d = np.array([[1, 2, 3], [4, 5, 6], [7, 8, 9]])\n",
    "row_indices = np.array([0, 1, 2])\n",
    "col_indices = np.array([1, 2, 0])\n",
    "extracted_elements = extract_elements_by_indices(array_2d, row_indices, col_indices)\n",
    "print(\"Extracted Elements by Row and Column Indices:\", extracted_elements)\n"
   ]
  },
  {
   "cell_type": "code",
   "execution_count": 36,
   "id": "ab10c076-56b9-4fe4-a02d-527d0300e935",
   "metadata": {},
   "outputs": [
    {
     "name": "stdout",
     "output_type": "stream",
     "text": [
      "Array after Adding Scalar: [[ 6  7  8]\n",
      " [ 9 10 11]\n",
      " [12 13 14]]\n"
     ]
    }
   ],
   "source": [
    "# Answer 36\n",
    "\n",
    "import numpy as np\n",
    "\n",
    "def add_scalar_to_array(array, scalar):\n",
    "    return array + scalar\n",
    "\n",
    "# Example usage\n",
    "array = np.array([[1, 2, 3], [4, 5, 6], [7, 8, 9]])\n",
    "scalar = 5\n",
    "result_array = add_scalar_to_array(array, scalar)\n",
    "print(\"Array after Adding Scalar:\", result_array)\n"
   ]
  },
  {
   "cell_type": "code",
   "execution_count": 37,
   "id": "635e7bbb-c088-4bfd-8d97-536acb3746a2",
   "metadata": {},
   "outputs": [
    {
     "name": "stdout",
     "output_type": "stream",
     "text": [
      "Result of Multiplying Rows by Array: [[ 4 10 18]\n",
      " [ 7 16 27]]\n"
     ]
    }
   ],
   "source": [
    "# Answer 37\n",
    "\n",
    "import numpy as np\n",
    "\n",
    "def multiply_rows_by_array(arr1, arr2):\n",
    "    return arr2 * arr1\n",
    "\n",
    "# Example usage\n",
    "arr1 = np.array([[1, 2, 3]])\n",
    "arr2 = np.array([[4, 5, 6], [7, 8, 9]])\n",
    "result_array = multiply_rows_by_array(arr1, arr2)\n",
    "print(\"Result of Multiplying Rows by Array:\", result_array)\n"
   ]
  },
  {
   "cell_type": "code",
   "execution_count": 38,
   "id": "4cdb4311-428c-4164-9372-a16ad630301a",
   "metadata": {},
   "outputs": [],
   "source": [
    "# Answer 38\n",
    "\n",
    "import numpy as np\n",
    "\n",
    "arr1 = np.array([[1, 2, 3, 4]])  # Shape (1, 4)\n",
    "arr2 = np.array([[5, 6, 7],       # Shape (4, 3)\n",
    "                 [8, 9, 10],\n",
    "                 [11, 12, 13],\n",
    "                 [14, 15, 16]])\n",
    "\n",
    "# Reshape arr1 to (1, 1, 4) and arr2 to (4, 3, 1)\n",
    "arr1_reshaped = arr1[:, :, np.newaxis]  # Shape (1, 4, 1)\n",
    "arr2_reshaped = arr2[:, np.newaxis, :]  # Shape (4, 1, 3)\n",
    "\n",
    "result = arr2_reshaped + arr1_reshaped\n",
    "result = result.squeeze()  # Shape (4, 3)\n"
   ]
  },
  {
   "cell_type": "code",
   "execution_count": 39,
   "id": "005d920d-20a5-4172-bd10-91e8c181e7d1",
   "metadata": {},
   "outputs": [],
   "source": [
    "# Answer 39\n",
    "\n",
    "import numpy as np\n",
    "\n",
    "arr1 = np.array([[1], [2], [3]])  # Shape (3, 1)\n",
    "arr2 = np.array([[4, 5, 6]])       # Shape (1, 3)\n",
    "\n",
    "result = arr1 + arr2\n"
   ]
  },
  {
   "cell_type": "code",
   "execution_count": 40,
   "id": "60b8497b-3ed7-483e-a125-9fa875a25b65",
   "metadata": {},
   "outputs": [
    {
     "ename": "ValueError",
     "evalue": "shapes (2,3) and (2,2) not aligned: 3 (dim 1) != 2 (dim 0)",
     "output_type": "error",
     "traceback": [
      "\u001b[0;31m---------------------------------------------------------------------------\u001b[0m",
      "\u001b[0;31mValueError\u001b[0m                                Traceback (most recent call last)",
      "Cell \u001b[0;32mIn[40], line 11\u001b[0m\n\u001b[1;32m      7\u001b[0m arr2 \u001b[38;5;241m=\u001b[39m np\u001b[38;5;241m.\u001b[39marray([[\u001b[38;5;241m7\u001b[39m, \u001b[38;5;241m8\u001b[39m],            \u001b[38;5;66;03m# Shape (2, 2)\u001b[39;00m\n\u001b[1;32m      8\u001b[0m                  [\u001b[38;5;241m9\u001b[39m, \u001b[38;5;241m10\u001b[39m]])\n\u001b[1;32m     10\u001b[0m \u001b[38;5;66;03m# To multiply, we need compatible shapes. We can use np.dot for matrix multiplication instead.\u001b[39;00m\n\u001b[0;32m---> 11\u001b[0m result \u001b[38;5;241m=\u001b[39m \u001b[43mnp\u001b[49m\u001b[38;5;241;43m.\u001b[39;49m\u001b[43mdot\u001b[49m\u001b[43m(\u001b[49m\u001b[43marr1\u001b[49m\u001b[43m,\u001b[49m\u001b[43m \u001b[49m\u001b[43marr2\u001b[49m\u001b[43m)\u001b[49m\n",
      "File \u001b[0;32m<__array_function__ internals>:180\u001b[0m, in \u001b[0;36mdot\u001b[0;34m(*args, **kwargs)\u001b[0m\n",
      "\u001b[0;31mValueError\u001b[0m: shapes (2,3) and (2,2) not aligned: 3 (dim 1) != 2 (dim 0)"
     ]
    }
   ],
   "source": [
    "# Answer 40\n",
    "\n",
    "import numpy as np\n",
    "\n",
    "arr1 = np.array([[1, 2, 3],        # Shape (2, 3)\n",
    "                 [4, 5, 6]])\n",
    "arr2 = np.array([[7, 8],            # Shape (2, 2)\n",
    "                 [9, 10]])\n",
    "\n",
    "# To multiply, we need compatible shapes. We can use np.dot for matrix multiplication instead.\n",
    "result = np.dot(arr1, arr2)\n"
   ]
  },
  {
   "cell_type": "code",
   "execution_count": 41,
   "id": "b8937982-b46c-41de-94d8-e2bf4be02e03",
   "metadata": {},
   "outputs": [],
   "source": [
    "# Answer 41\n",
    "\n",
    "import numpy as np\n",
    "\n",
    "arr = np.array([[1, 2, 3],\n",
    "                [4, 5, 6],\n",
    "                [7, 8, 9]])\n",
    "\n",
    "column_mean = np.mean(arr, axis=0)\n"
   ]
  },
  {
   "cell_type": "code",
   "execution_count": 42,
   "id": "1d3b3bd2-9ada-4d46-b32b-a89a60b88c05",
   "metadata": {},
   "outputs": [],
   "source": [
    "# Answer 42\n",
    "import numpy as np\n",
    "\n",
    "arr = np.array([[1, 2, 3],\n",
    "                [4, 5, 6],\n",
    "                [7, 8, 9]])\n",
    "\n",
    "row_max = np.max(arr, axis=1)\n"
   ]
  },
  {
   "cell_type": "code",
   "execution_count": 43,
   "id": "430c5455-6bb5-482f-a607-6913ae430eb3",
   "metadata": {},
   "outputs": [],
   "source": [
    "# Answer 43\n",
    "import numpy as np\n",
    "\n",
    "arr = np.array([[1, 2, 3],\n",
    "                [4, 5, 6],\n",
    "                [7, 8, 9]])\n",
    "\n",
    "indices = np.argmax(arr, axis=0)\n"
   ]
  },
  {
   "cell_type": "code",
   "execution_count": 44,
   "id": "00c45aef-72f7-4075-97ca-80a3c3c4e114",
   "metadata": {},
   "outputs": [],
   "source": [
    "# Answer 44\n",
    "\n",
    "import numpy as np\n",
    "from numpy.lib.stride_tricks import as_strided\n",
    "\n",
    "def moving_sum(arr, window_size):\n",
    "    if window_size > arr.shape[1]:\n",
    "        raise ValueError(\"Window size must be less than or equal to number of columns\")\n",
    "\n",
    "    shape = (arr.shape[0], arr.shape[1] - window_size + 1, window_size)\n",
    "    strides = (arr.strides[0], arr.strides[1], arr.strides[1])\n",
    "    sub_matrices = as_strided(arr, shape=shape, strides=strides)\n",
    "    return np.sum(sub_matrices, axis=2)\n",
    "\n",
    "arr = np.array([[1, 2, 3, 4],\n",
    "                [5, 6, 7, 8],\n",
    "                [9, 10, 11, 12]])\n",
    "\n",
    "window_size = 2\n",
    "result = moving_sum(arr, window_size)\n"
   ]
  },
  {
   "cell_type": "code",
   "execution_count": 45,
   "id": "25a1c022-0e11-4df7-8573-4e3f674d66af",
   "metadata": {},
   "outputs": [],
   "source": [
    "# Answer 46\n",
    "import numpy as np\n",
    "\n",
    "def reshape_array(arr, m, n):\n",
    "    return arr.reshape(m, n)\n"
   ]
  },
  {
   "cell_type": "code",
   "execution_count": 46,
   "id": "2b03b3c1-cb97-4a9b-9e48-58a4645aeb5d",
   "metadata": {},
   "outputs": [],
   "source": [
    "# Answer 47\n",
    "import numpy as np\n",
    "\n",
    "def flatten_matrix(matrix):\n",
    "    return matrix.flatten()\n"
   ]
  },
  {
   "cell_type": "code",
   "execution_count": 47,
   "id": "e13ee88a-d36a-439c-b927-296b9ec3bcf8",
   "metadata": {},
   "outputs": [],
   "source": [
    "# Answer 48\n",
    "import numpy as np\n",
    "\n",
    "def concatenate_arrays(arr1, arr2, axis):\n",
    "    return np.concatenate((arr1, arr2), axis=axis)\n"
   ]
  },
  {
   "cell_type": "code",
   "execution_count": 48,
   "id": "6a662c1e-f1d7-47a8-b60b-020a1e1bdddb",
   "metadata": {},
   "outputs": [],
   "source": [
    "# Answer 49\n",
    "import numpy as np\n",
    "\n",
    "def split_array(arr, indices_or_sections, axis):\n",
    "    return np.split(arr, indices_or_sections, axis=axis)\n"
   ]
  },
  {
   "cell_type": "code",
   "execution_count": 49,
   "id": "0751e44f-078e-449d-9134-6e6dea308d5b",
   "metadata": {},
   "outputs": [],
   "source": [
    "# Answer 50\n",
    "\n",
    "import numpy as np\n",
    "\n",
    "def insert_and_delete(arr, insert_index, insert_values, delete_index):\n",
    "    arr = np.insert(arr, insert_index, insert_values)\n",
    "    arr = np.delete(arr, delete_index)\n",
    "    return arr\n"
   ]
  },
  {
   "cell_type": "code",
   "execution_count": 50,
   "id": "d4e0f9f8-d451-4000-841c-566ad79c32fd",
   "metadata": {},
   "outputs": [],
   "source": [
    "# ANswer 51\n",
    "\n",
    "import numpy as np\n",
    "\n",
    "arr1 = np.random.randint(1, 10, size=(3, 3))\n",
    "arr2 = np.arange(1, 11).reshape(1, 10)[:arr1.shape[0], :arr1.shape[1]]\n",
    "result = arr1 + arr2\n"
   ]
  },
  {
   "cell_type": "code",
   "execution_count": 51,
   "id": "2713e397-7013-4d0e-b921-f6b3d2ef8333",
   "metadata": {},
   "outputs": [],
   "source": [
    "# Answer 52\n",
    "import numpy as np\n",
    "\n",
    "arr1 = np.arange(10, 0, -1)\n",
    "arr2 = np.arange(1, 11)\n",
    "result = arr1 - arr2\n"
   ]
  },
  {
   "cell_type": "code",
   "execution_count": 52,
   "id": "f8cc7789-08c0-4b8c-8f10-dd128da55e3c",
   "metadata": {},
   "outputs": [],
   "source": [
    "# Answer 53\n",
    "\n",
    "import numpy as np\n",
    "\n",
    "arr1 = np.random.randint(1, 10, size=(3, 3))\n",
    "arr2 = np.arange(1, 6)\n",
    "result = arr1 * arr2[:arr1.shape[1]]\n"
   ]
  },
  {
   "cell_type": "code",
   "execution_count": 53,
   "id": "ac7cd90b-4935-4615-81db-3b460a9654ae",
   "metadata": {},
   "outputs": [],
   "source": [
    "# Answer 54\n",
    "\n",
    "import numpy as np\n",
    "\n",
    "arr1 = np.arange(2, 12, 2)\n",
    "arr2 = np.arange(1, 6)\n",
    "result = arr1 / arr2\n"
   ]
  },
  {
   "cell_type": "code",
   "execution_count": 54,
   "id": "4c7a3589-21e0-45d2-8249-7105ef1af827",
   "metadata": {},
   "outputs": [],
   "source": [
    "# Answer 55\n",
    "\n",
    "import numpy as np\n",
    "\n",
    "arr1 = np.arange(1, 6)\n",
    "arr2 = np.flip(arr1)\n",
    "result = np.power(arr1, arr2)\n"
   ]
  },
  {
   "cell_type": "code",
   "execution_count": 55,
   "id": "72b5d368-4864-49f4-a777-b005013a849d",
   "metadata": {},
   "outputs": [],
   "source": [
    "# Answer 56\n",
    "\n",
    "import numpy as np\n",
    "\n",
    "arr1 = np.arange(1, 6)\n",
    "arr2 = np.flip(arr1)\n",
    "result = np.power(arr1, arr2)\n"
   ]
  },
  {
   "cell_type": "code",
   "execution_count": 56,
   "id": "9469cb39-f236-4b4f-bd93-5fddb15aaf54",
   "metadata": {},
   "outputs": [],
   "source": [
    "# Answer 57\n",
    "\n",
    "import numpy as np\n",
    "\n",
    "def extract_uppercase(array):\n",
    "    return np.array([ ''.join(c for c in s if c.isupper()) for s in array ])\n"
   ]
  },
  {
   "cell_type": "code",
   "execution_count": 57,
   "id": "7bdf2ba6-9451-4d17-a90c-6d7134675786",
   "metadata": {},
   "outputs": [],
   "source": [
    "# Answer 58\n",
    "\n",
    "import numpy as np\n",
    "\n",
    "def replace_substring(array, old_substring, new_substring):\n",
    "    return np.char.replace(array, old_substring, new_substring)\n"
   ]
  },
  {
   "cell_type": "code",
   "execution_count": 58,
   "id": "ba9584ce-8899-4024-b619-14db7a26875d",
   "metadata": {},
   "outputs": [],
   "source": [
    "# Answer 59\n",
    "\n",
    "import numpy as np\n",
    "\n",
    "def concatenate_strings(array, separator=''):\n",
    "    return np.char.add(array[:-1], np.char.add(separator, array[1:]))\n"
   ]
  },
  {
   "cell_type": "code",
   "execution_count": 59,
   "id": "832e7c75-e6fe-4203-8bb4-7e644f42759e",
   "metadata": {},
   "outputs": [],
   "source": [
    "# Answer 60\n",
    "\n",
    "import numpy as np\n",
    "\n",
    "def longest_string_length(array):\n",
    "    return np.max(np.char.str_len(array))\n"
   ]
  },
  {
   "cell_type": "code",
   "execution_count": 60,
   "id": "f4f1b6cb-acc0-4053-a538-a8575679c069",
   "metadata": {},
   "outputs": [
    {
     "data": {
      "text/plain": [
       "(513.81, 526.5, 85274.73389999999, 292.0183793873255)"
      ]
     },
     "execution_count": 60,
     "metadata": {},
     "output_type": "execute_result"
    }
   ],
   "source": [
    "# Answer 61\n",
    "import numpy as np\n",
    "\n",
    "# Generate dataset\n",
    "dataset = np.random.randint(1, 1001, size=100)\n",
    "\n",
    "# Compute statistics\n",
    "mean = np.mean(dataset)\n",
    "median = np.median(dataset)\n",
    "variance = np.var(dataset)\n",
    "std_dev = np.std(dataset)\n",
    "\n",
    "mean, median, variance, std_dev\n"
   ]
  },
  {
   "cell_type": "code",
   "execution_count": 61,
   "id": "731d7ae5-eac7-461f-ad5f-77dbdccbc22b",
   "metadata": {},
   "outputs": [
    {
     "data": {
      "text/plain": [
       "(24.601398933510033, 74.40945197297087)"
      ]
     },
     "execution_count": 61,
     "metadata": {},
     "output_type": "execute_result"
    }
   ],
   "source": [
    "# Answer 62\n",
    "\n",
    "import numpy as np\n",
    "\n",
    "# Generate dataset\n",
    "data = np.random.uniform(1, 100, 50)\n",
    "\n",
    "# Compute percentiles\n",
    "percentile_25 = np.percentile(data, 25)\n",
    "percentile_75 = np.percentile(data, 75)\n",
    "\n",
    "percentile_25, percentile_75\n"
   ]
  },
  {
   "cell_type": "code",
   "execution_count": 62,
   "id": "157417ad-59e7-4e76-abf5-cb06505c0ef4",
   "metadata": {},
   "outputs": [
    {
     "data": {
      "text/plain": [
       "-0.07715211222962903"
      ]
     },
     "execution_count": 62,
     "metadata": {},
     "output_type": "execute_result"
    }
   ],
   "source": [
    "# Answer 63\n",
    "\n",
    "import numpy as np\n",
    "\n",
    "# Example arrays\n",
    "array1 = np.random.rand(100)\n",
    "array2 = np.random.rand(100)\n",
    "\n",
    "# Compute correlation coefficient\n",
    "correlation_matrix = np.corrcoef(array1, array2)\n",
    "correlation_coefficient = correlation_matrix[0, 1]\n",
    "\n",
    "correlation_coefficient\n"
   ]
  },
  {
   "cell_type": "code",
   "execution_count": 63,
   "id": "30e4fa7d-c3fc-4e97-9b50-9c64a54ddd21",
   "metadata": {},
   "outputs": [
    {
     "name": "stdout",
     "output_type": "stream",
     "text": [
      "Matrix 1:\n",
      " [[1 2]\n",
      " [3 4]]\n",
      "Matrix 2:\n",
      " [[5 6]\n",
      " [7 8]]\n",
      "Matrix Multiplication Result:\n",
      " [[19 22]\n",
      " [43 50]]\n"
     ]
    }
   ],
   "source": [
    "# Answer 64\n",
    "\n",
    "import numpy as np\n",
    "\n",
    "# Create two matrices\n",
    "matrix1 = np.array([[1, 2], [3, 4]])\n",
    "matrix2 = np.array([[5, 6], [7, 8]])\n",
    "\n",
    "# Perform matrix multiplication\n",
    "result = np.dot(matrix1, matrix2)\n",
    "\n",
    "print(\"Matrix 1:\\n\", matrix1)\n",
    "print(\"Matrix 2:\\n\", matrix2)\n",
    "print(\"Matrix Multiplication Result:\\n\", result)\n"
   ]
  },
  {
   "cell_type": "code",
   "execution_count": 64,
   "id": "8fb89f5f-a647-4c33-b0d8-92e62ced0083",
   "metadata": {},
   "outputs": [
    {
     "name": "stdout",
     "output_type": "stream",
     "text": [
      "Array:\n",
      " [476 512 286 861 565 449 832 923  71 394 131 780 281 410 121 323  66 612\n",
      " 197 457 190 373 711 609 122 213 562 378 444 842 967 829 607 850 212 422\n",
      " 668 239 938 499 318 288 308 780 528 735 556 294 493 530]\n",
      "10th Percentile: 184.10000000000002\n",
      "50th Percentile (Median): 466.5\n",
      "90th Percentile: 842.8\n",
      "First Quartile (25th Percentile): 289.5\n",
      "Third Quartile (75th Percentile): 654.0\n"
     ]
    }
   ],
   "source": [
    "# Answer 65\n",
    "\n",
    "import numpy as np\n",
    "\n",
    "# Create an array of 50 integers between 10 and 1000\n",
    "array = np.random.randint(10, 1000, size=50)\n",
    "\n",
    "# Calculate percentiles\n",
    "percentile_10 = np.percentile(array, 10)\n",
    "percentile_50 = np.percentile(array, 50)  # This is the median\n",
    "percentile_90 = np.percentile(array, 90)\n",
    "\n",
    "# Calculate quartiles\n",
    "first_quartile = np.percentile(array, 25)\n",
    "third_quartile = np.percentile(array, 75)\n",
    "\n",
    "print(\"Array:\\n\", array)\n",
    "print(\"10th Percentile:\", percentile_10)\n",
    "print(\"50th Percentile (Median):\", percentile_50)\n",
    "print(\"90th Percentile:\", percentile_90)\n",
    "print(\"First Quartile (25th Percentile):\", first_quartile)\n",
    "print(\"Third Quartile (75th Percentile):\", third_quartile)\n",
    "\n"
   ]
  },
  {
   "cell_type": "code",
   "execution_count": 65,
   "id": "25dd66a2-6061-4494-90c0-c253c4688a32",
   "metadata": {},
   "outputs": [
    {
     "name": "stdout",
     "output_type": "stream",
     "text": [
      "Array: [10 20 30 40 50]\n",
      "Index of element 30 : 2\n"
     ]
    }
   ],
   "source": [
    "# Answer 66\n",
    "\n",
    "import numpy as np\n",
    "\n",
    "# Create an array of integers\n",
    "array = np.array([10, 20, 30, 40, 50])\n",
    "\n",
    "# Specify the element to find\n",
    "element = 30\n",
    "\n",
    "# Find the index of the element\n",
    "index = np.where(array == element)[0][0]\n",
    "\n",
    "print(\"Array:\", array)\n",
    "print(\"Index of element\", element, \":\", index)\n"
   ]
  },
  {
   "cell_type": "code",
   "execution_count": null,
   "id": "87fc170c-b547-4ce3-bcdd-b741198cb959",
   "metadata": {},
   "outputs": [],
   "source": []
  }
 ],
 "metadata": {
  "kernelspec": {
   "display_name": "Python 3 (ipykernel)",
   "language": "python",
   "name": "python3"
  },
  "language_info": {
   "codemirror_mode": {
    "name": "ipython",
    "version": 3
   },
   "file_extension": ".py",
   "mimetype": "text/x-python",
   "name": "python",
   "nbconvert_exporter": "python",
   "pygments_lexer": "ipython3",
   "version": "3.10.8"
  }
 },
 "nbformat": 4,
 "nbformat_minor": 5
}
